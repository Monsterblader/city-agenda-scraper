{
 "cells": [
  {
   "cell_type": "code",
   "execution_count": null,
   "metadata": {},
   "outputs": [],
   "source": [
    "# Code for San Jose\n",
    "# Project: City Agenda Scraper\n",
    "# Summary: JS Parser Demo\n",
    "\n",
    "# Import module for Jupyter Notebook\n",
    "# !pip install requests_html\n",
    "# Note: dryscrape requires webkit-driver library\n",
    "# https://dryscrape.readthedocs.io/en/latest/installation.html\n",
    "# !sudo apt-get install qt5-default libqt5webkit5-dev build-essential \\\n",
    "#                   python-lxml python-pip xvfb\n",
    "# !pip install dryscrape\n",
    "# !pip install bs4\n",
    "import dryscrape\n",
    "from bs4 import BeautifulSoup\n",
    "\n",
    "# Javascript parsing demo using the dryscrape package:\n",
    "# Usage: Adapt code for parsing SJ agenda website\n",
    "# https://stackoverflow.com/questions/8049520/web-scraping-javascript-page-with-python\n",
    "def js_demo(url):\n",
    "    dryscrape.start_xvfb()\n",
    "    session = dryscrape.Session()\n",
    "    session.visit(url)\n",
    "    response = session.body()\n",
    "    soup = BeautifulSoup(response)\n",
    "    soup.find(id=\"input#ctl00_ContentPlaceHolder1_lstYears_Input.rcbInput.radPreventDecorate\")\n",
    "    # Result:\n",
    "    # <p id=\"intro-text\">Yay! Supports javascript</p>\n",
    "\n",
    "# Set URL and pass to function\n",
    "url = 'https://sanjose.legistar.com/Calendar.aspx'\n",
    "js_demo(url)\n"
   ]
  }
 ],
 "metadata": {
  "kernelspec": {
   "display_name": "Python 3",
   "language": "python",
   "name": "python3"
  },
  "language_info": {
   "codemirror_mode": {
    "name": "ipython",
    "version": 3
   },
   "file_extension": ".py",
   "mimetype": "text/x-python",
   "name": "python",
   "nbconvert_exporter": "python",
   "pygments_lexer": "ipython3",
   "version": "3.6.5"
  }
 },
 "nbformat": 4,
 "nbformat_minor": 4
}
